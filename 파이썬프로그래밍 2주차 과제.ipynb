{
  "nbformat": 4,
  "nbformat_minor": 0,
  "metadata": {
    "colab": {
      "provenance": [],
      "authorship_tag": "ABX9TyNwB6Whf1ouzAznNQ2zCNA0",
      "include_colab_link": true
    },
    "kernelspec": {
      "name": "python3",
      "display_name": "Python 3"
    },
    "language_info": {
      "name": "python"
    }
  },
  "cells": [
    {
      "cell_type": "markdown",
      "metadata": {
        "id": "view-in-github",
        "colab_type": "text"
      },
      "source": [
        "<a href=\"https://colab.research.google.com/github/Cho000000/cyh/blob/main/%ED%8C%8C%EC%9D%B4%EC%8D%AC%ED%94%84%EB%A1%9C%EA%B7%B8%EB%9E%98%EB%B0%8D%202%EC%A3%BC%EC%B0%A8%20%EA%B3%BC%EC%A0%9C.ipynb\" target=\"_parent\"><img src=\"https://colab.research.google.com/assets/colab-badge.svg\" alt=\"Open In Colab\"/></a>"
      ]
    },
    {
      "cell_type": "code",
      "source": [
        "# 1. inch TO cm\n",
        "\n",
        "inch = float(input(\"인치 값을 입력하세요: \"))\n",
        "cm = inch * 2.54\n",
        "print(inch, \"인치는\", cm, \"cm 입니다.\")"
      ],
      "metadata": {
        "id": "VKxczsLsVJM1",
        "colab": {
          "base_uri": "https://localhost:8080/"
        },
        "outputId": "3d8e648e-741a-43de-992a-907269894a7a"
      },
      "execution_count": 7,
      "outputs": [
        {
          "output_type": "stream",
          "name": "stdout",
          "text": [
            "인치 값을 입력하세요: 4\n",
            "4.0 인치는 10.16 cm 입니다.\n"
          ]
        }
      ]
    },
    {
      "cell_type": "code",
      "source": [
        "# 2. kg To pound\n",
        "\n",
        "kg = float(input(\"킬로그램 값을 입력하세요: \"))\n",
        "pound = round(kg * 2.20462,2)\n",
        "print(kg, \"kg은\", pound, \"파운드 입니다.\")"
      ],
      "metadata": {
        "colab": {
          "base_uri": "https://localhost:8080/"
        },
        "id": "9r9LBYeZUspx",
        "outputId": "729ac74d-3d0e-4182-8533-3a134729c7de"
      },
      "execution_count": 5,
      "outputs": [
        {
          "output_type": "stream",
          "name": "stdout",
          "text": [
            "킬로그램 값을 입력하세요: 3\n",
            "3.0 kg은 6.61 파운드 입니다.\n"
          ]
        }
      ]
    },
    {
      "cell_type": "code",
      "source": [
        "# 3. Circlecal\n",
        "\n",
        "pi = 3.141592 #원주율\n",
        "\n",
        "radius = float(input(\"원의 반지름을 입력하세요: \"))\n",
        "circumference = round(2 * pi * radius,2)  # 둘레\n",
        "area = round(pi * radius ** 2,2)  # 넓이\n",
        "\n",
        "print(\"반지름\", radius, \"의 원 둘레:\", circumference)\n",
        "print(\"반지름\", radius, \"의 원 넓이:\", area)"
      ],
      "metadata": {
        "colab": {
          "base_uri": "https://localhost:8080/"
        },
        "id": "W8QPTXgEUxts",
        "outputId": "26cb36b5-0f77-49b3-b7f6-c4b5cb02233d"
      },
      "execution_count": 6,
      "outputs": [
        {
          "output_type": "stream",
          "name": "stdout",
          "text": [
            "원의 반지름을 입력하세요: 2\n",
            "반지름 2.0 의 원 둘레: 12.57\n",
            "반지름 2.0 의 원 넓이: 12.57\n"
          ]
        }
      ]
    }
  ]
}