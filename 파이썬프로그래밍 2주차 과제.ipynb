{
  "nbformat": 4,
  "nbformat_minor": 0,
  "metadata": {
    "colab": {
      "provenance": [],
      "authorship_tag": "ABX9TyMAf8/ArYoePloBLrzAhkdA",
      "include_colab_link": true
    },
    "kernelspec": {
      "name": "python3",
      "display_name": "Python 3"
    },
    "language_info": {
      "name": "python"
    }
  },
  "cells": [
    {
      "cell_type": "markdown",
      "metadata": {
        "id": "view-in-github",
        "colab_type": "text"
      },
      "source": [
        "<a href=\"https://colab.research.google.com/github/Cho000000/cyh/blob/main/%ED%8C%8C%EC%9D%B4%EC%8D%AC%ED%94%84%EB%A1%9C%EA%B7%B8%EB%9E%98%EB%B0%8D%202%EC%A3%BC%EC%B0%A8%20%EA%B3%BC%EC%A0%9C.ipynb\" target=\"_parent\"><img src=\"https://colab.research.google.com/assets/colab-badge.svg\" alt=\"Open In Colab\"/></a>"
      ]
    },
    {
      "cell_type": "code",
      "source": [
        "# 1. inch를 cm로 변환\n",
        "inch = float(input(\"인치 값을 입력하세요: \"))\n",
        "cm = inch * 2.54\n",
        "print(inch, \"인치는\", cm, \"cm 입니다.\")"
      ],
      "metadata": {
        "id": "VKxczsLsVJM1",
        "colab": {
          "base_uri": "https://localhost:8080/"
        },
        "outputId": "12f3b33d-9bde-4dc2-bd8a-b5edcfd2fb1c"
      },
      "execution_count": 1,
      "outputs": [
        {
          "output_type": "stream",
          "name": "stdout",
          "text": [
            "인치 값을 입력하세요: 3\n",
            "3.0 인치는 7.62 cm 입니다.\n"
          ]
        }
      ]
    },
    {
      "cell_type": "code",
      "source": [
        "# 2. kg을 파운드로 변환\n",
        "kg = float(input(\"킬로그램 값을 입력하세요: \"))\n",
        "pound = kg * 2.20462\n",
        "print(kg, \"kg은\", pound, \"파운드 입니다.\")"
      ],
      "metadata": {
        "colab": {
          "base_uri": "https://localhost:8080/"
        },
        "id": "9r9LBYeZUspx",
        "outputId": "ad950609-9201-46a8-de06-56caaa9a0402"
      },
      "execution_count": 2,
      "outputs": [
        {
          "output_type": "stream",
          "name": "stdout",
          "text": [
            "킬로그램 값을 입력하세요: 4\n",
            "4.0 kg은 8.81848 파운드 입니다.\n"
          ]
        }
      ]
    },
    {
      "cell_type": "code",
      "source": [
        "# 3. 원의 둘레와 넓이 계산\n",
        "import math\n",
        "\n",
        "radius = float(input(\"원의 반지름을 입력하세요: \"))\n",
        "circumference = 2 * math.pi * radius  # 둘레\n",
        "area = math.pi * radius ** 2  # 넓이\n",
        "\n",
        "print(\"반지름\", radius, \"의 원 둘레:\", circumference)\n",
        "print(\"반지름\", radius, \"의 원 넓이:\", area)"
      ],
      "metadata": {
        "colab": {
          "base_uri": "https://localhost:8080/"
        },
        "id": "W8QPTXgEUxts",
        "outputId": "34e0ee13-47f4-418e-b94b-07af9d2e14a3"
      },
      "execution_count": 3,
      "outputs": [
        {
          "output_type": "stream",
          "name": "stdout",
          "text": [
            "원의 반지름을 입력하세요: 20\n",
            "반지름 20.0 의 원 둘레: 125.66370614359172\n",
            "반지름 20.0 의 원 넓이: 1256.6370614359173\n"
          ]
        }
      ]
    },
    {
      "cell_type": "code",
      "source": [],
      "metadata": {
        "id": "JHxR64ZUU1f5"
      },
      "execution_count": null,
      "outputs": []
    }
  ]
}