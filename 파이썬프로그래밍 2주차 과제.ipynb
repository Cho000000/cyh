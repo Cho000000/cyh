{
  "nbformat": 4,
  "nbformat_minor": 0,
  "metadata": {
    "colab": {
      "provenance": [],
      "authorship_tag": "ABX9TyNB6egw4oMvLmgrb0YdXF7o",
      "include_colab_link": true
    },
    "kernelspec": {
      "name": "python3",
      "display_name": "Python 3"
    },
    "language_info": {
      "name": "python"
    }
  },
  "cells": [
    {
      "cell_type": "markdown",
      "metadata": {
        "id": "view-in-github",
        "colab_type": "text"
      },
      "source": [
        "<a href=\"https://colab.research.google.com/github/Cho000000/cyh/blob/main/%ED%8C%8C%EC%9D%B4%EC%8D%AC%ED%94%84%EB%A1%9C%EA%B7%B8%EB%9E%98%EB%B0%8D%202%EC%A3%BC%EC%B0%A8%20%EA%B3%BC%EC%A0%9C.ipynb\" target=\"_parent\"><img src=\"https://colab.research.google.com/assets/colab-badge.svg\" alt=\"Open In Colab\"/></a>"
      ]
    },
    {
      "cell_type": "code",
      "source": [
        "# 1. inch TO cm\n",
        "inch = float(input(\"인치 값을 입력하세요: \"))\n",
        "cm = inch * 2.54\n",
        "print(inch, \"인치는\", cm, \"cm 입니다.\")"
      ],
      "metadata": {
        "id": "VKxczsLsVJM1",
        "colab": {
          "base_uri": "https://localhost:8080/"
        },
        "outputId": "578977a7-312b-4eb3-deff-dc946ae70721"
      },
      "execution_count": 4,
      "outputs": [
        {
          "output_type": "stream",
          "name": "stdout",
          "text": [
            "인치 값을 입력하세요: 3\n",
            "3.0 인치는 7.62 cm 입니다.\n"
          ]
        }
      ]
    },
    {
      "cell_type": "code",
      "source": [
        "# 2. kg To pound\n",
        "kg = float(input(\"킬로그램 값을 입력하세요: \"))\n",
        "pound = kg * 2.20462\n",
        "print(kg, \"kg은\", pound, \"파운드 입니다.\")"
      ],
      "metadata": {
        "colab": {
          "base_uri": "https://localhost:8080/"
        },
        "id": "9r9LBYeZUspx",
        "outputId": "953d3ea0-660d-4746-cda0-045e5c5e00ca"
      },
      "execution_count": 5,
      "outputs": [
        {
          "output_type": "stream",
          "name": "stdout",
          "text": [
            "킬로그램 값을 입력하세요: 70\n",
            "70.0 kg은 154.3234 파운드 입니다.\n"
          ]
        }
      ]
    },
    {
      "cell_type": "code",
      "source": [
        "# 3. Circlecal\n",
        "\n",
        "pi = 3.141592 #원주율\n",
        "\n",
        "radius = float(input(\"원의 반지름을 입력하세요: \"))\n",
        "circumference = 2 * pi * radius  # 둘레\n",
        "area = pi * radius ** 2  # 넓이\n",
        "\n",
        "print(\"반지름\", radius, \"의 원 둘레:\", circumference)\n",
        "print(\"반지름\", radius, \"의 원 넓이:\", area)"
      ],
      "metadata": {
        "colab": {
          "base_uri": "https://localhost:8080/"
        },
        "id": "W8QPTXgEUxts",
        "outputId": "fd9ccfdf-cb9f-4793-8cb4-25562eb8f621"
      },
      "execution_count": 6,
      "outputs": [
        {
          "output_type": "stream",
          "name": "stdout",
          "text": [
            "원의 반지름을 입력하세요: 3\n",
            "반지름 3.0 의 원 둘레: 18.849552000000003\n",
            "반지름 3.0 의 원 넓이: 28.274328\n"
          ]
        }
      ]
    }
  ]
}